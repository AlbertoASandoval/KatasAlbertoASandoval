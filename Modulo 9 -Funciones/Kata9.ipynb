{
 "cells": [
  {
   "cell_type": "markdown",
   "metadata": {},
   "source": [
    "# Ejercicio Kata 9\n",
    "## Uso de Funciones\n"
   ]
  },
  {
   "cell_type": "markdown",
   "metadata": {},
   "source": [
    "### Ejercicio 1: Trabajar con argumentos en funciones\n",
    "\n",
    "Los argumentos requeridos en las funciones se utilizan cuando las funciones necesitan que esos argumentos funcionen correctamente. En este ejercicio, construirás un informe de combustible que requiere información de varias ubicaciones de combustible en todo el cohete.\n",
    "\n",
    "Comienza por crear una función que necesite tres lecturas de combustible y devuelva un informe:"
   ]
  },
  {
   "cell_type": "code",
   "execution_count": 17,
   "metadata": {},
   "outputs": [],
   "source": [
    "def maintenance_report (LOX_tank, LH2_tank, external_tank) :\n",
    "    total_average = (LOX_tank + LH2_tank + external_tank) / 3\n",
    "    return f\"\"\" Fuel Report:\n",
    "    Total Prom: {total_average}%\n",
    "    LOX Tank: {LOX_tank}%\n",
    "    LH2 Tank: {LH2_tank}%\n",
    "    External Tank: {external_tank}%\n",
    "    \"\"\"\n",
    "\n"
   ]
  },
  {
   "cell_type": "code",
   "execution_count": 18,
   "metadata": {},
   "outputs": [
    {
     "name": "stdout",
     "output_type": "stream",
     "text": [
      " Fuel Report:\n",
      "    Total Prom: 85.0%\n",
      "    LOX Tank: 75%\n",
      "    LH2 Tank: 85%\n",
      "    External Tank: 95%\n",
      "    \n"
     ]
    }
   ],
   "source": [
    "print(maintenance_report(75,85,95))"
   ]
  },
  {
   "cell_type": "markdown",
   "metadata": {},
   "source": [
    " - En lugar de simplemente crear el informe, la función también está calculando el promedio. Mejora la legibilidad extrayendo el cálculo promedio de la función en una nueva función para que el promedio se pueda hacer de forma independiente:"
   ]
  },
  {
   "cell_type": "code",
   "execution_count": 20,
   "metadata": {},
   "outputs": [],
   "source": [
    "# Promedio\n",
    "def prom(values):\n",
    "    total = sum(values)\n",
    "    number_items = len(values)\n",
    "    return total / number_items\n"
   ]
  },
  {
   "cell_type": "markdown",
   "metadata": {},
   "source": [
    "- Ahora actualiza la funcion de informes para llamarlo a la nueva funcion del promedio:\n"
   ]
  },
  {
   "cell_type": "code",
   "execution_count": 21,
   "metadata": {},
   "outputs": [],
   "source": [
    "def maintenance_report (LOX_tank, LH2_tank, external_tank) :\n",
    "    return f\"\"\" Fuel Report:\n",
    "    Total Prom: {prom([LOX_tank, LH2_tank, external_tank])}%\n",
    "    LOX Tank: {LOX_tank}%\n",
    "    LH2 Tank: {LH2_tank}%\n",
    "    External Tank: {external_tank}%\n",
    "    \"\"\""
   ]
  },
  {
   "cell_type": "code",
   "execution_count": 22,
   "metadata": {},
   "outputs": [
    {
     "name": "stdout",
     "output_type": "stream",
     "text": [
      " Fuel Report:\n",
      "    Total Prom: 83.0%\n",
      "    LOX Tank: 73%\n",
      "    LH2 Tank: 83%\n",
      "    External Tank: 93%\n",
      "    \n"
     ]
    }
   ],
   "source": [
    "print(maintenance_report(73, 83, 93))"
   ]
  },
  {
   "cell_type": "markdown",
   "metadata": {},
   "source": [
    "## Ejercicio 2\n",
    "### Trabajo con argumentos de plabra clave\n",
    "\n",
    " - Trabajar con argumentos de palabras clave en funciones\n",
    "\n",
    " \n",
    "  En este ejercicio, construirás un informe de cohete que requiere varias piezas de información, como el tiempo hasta el destino, el combustible a la izquierda y el nombre del destino. Comienza por crear una función que creará un informe preciso de la misión:"
   ]
  },
  {
   "cell_type": "code",
   "execution_count": 8,
   "metadata": {},
   "outputs": [],
   "source": [
    "# Informe de Mision\n",
    "def launch_report(prelaunch_time, flight_time, destination, int_tanck, ext_tanck):\n",
    "    return f\"\"\"\n",
    "    Mission {destination}\n",
    "    Total time launch {prelaunch_time + flight_time } min\n",
    "    Remaining Fuel {ext_tanck + int_tanck } lt \"\"\""
   ]
  },
  {
   "cell_type": "code",
   "execution_count": 9,
   "metadata": {},
   "outputs": [
    {
     "name": "stdout",
     "output_type": "stream",
     "text": [
      "\n",
      "    Mission Alfa Centauri\n",
      "    Total time launch 390 min\n",
      "    Remaining Fuel 377640 lt \n"
     ]
    }
   ],
   "source": [
    "print(launch_report(30, 360, \"Alfa Centauri\", 90320, 287320 ))"
   ]
  },
  {
   "cell_type": "markdown",
   "metadata": {},
   "source": [
    "La función es problemática porque no se puede adaptar para minutos adicionales o tanques adicionales de combustible. Hazlo más flexible permitiendo cualquier número de pasos basados en el tiempo y cualquier número de tanques. En lugar de usar `*args` y `**kwargs`, aprovecha el hecho de que puedes usar cualquier nombre que desees. Asegurate que la función sea más legible mediante el uso de nombres de variables que están asociados con las entradas, como `*minutes` y `**fuel_reservoirs`:"
   ]
  },
  {
   "cell_type": "code",
   "execution_count": 19,
   "metadata": {},
   "outputs": [],
   "source": [
    "def launch_report_2(destination, *minutes, **fuel_reservoirs):\n",
    "    report = f\"\"\"\n",
    "    Mission to {destination}\n",
    "    Total travel time: {sum(minutes)} minutes\n",
    "    Total fuel left: {sum(fuel_reservoirs.values())}\n",
    "    \"\"\"\n",
    "    for tank_name, gallons in fuel_reservoirs.items():\n",
    "        report += f\"{tank_name} tank  {gallons} gallons left\\n\"\n",
    "    return report"
   ]
  },
  {
   "cell_type": "code",
   "execution_count": 24,
   "metadata": {},
   "outputs": [
    {
     "name": "stdout",
     "output_type": "stream",
     "text": [
      "\n",
      "    Mission to Alfa Centaury\n",
      "    Total travel time: 97 minutes\n",
      "    Total fuel left: 737000\n",
      "    interior tank  450000 gallons left\n",
      "exterior tank  287000 gallons left\n",
      "\n"
     ]
    }
   ],
   "source": [
    "print(launch_report_2(\"Alfa Centaury\", 9, 22, 66, interior = 450000,  exterior =  287000 ))"
   ]
  },
  {
   "cell_type": "markdown",
   "metadata": {},
   "source": []
  }
 ],
 "metadata": {
  "interpreter": {
   "hash": "481f44f0cd34e6de61a4b6dcc5be0a1649e3e1204545d7e3d129eb59c7283710"
  },
  "kernelspec": {
   "display_name": "Python 3.10.2 64-bit (windows store)",
   "language": "python",
   "name": "python3"
  },
  "language_info": {
   "codemirror_mode": {
    "name": "ipython",
    "version": 3
   },
   "file_extension": ".py",
   "mimetype": "text/x-python",
   "name": "python",
   "nbconvert_exporter": "python",
   "pygments_lexer": "ipython3",
   "version": "3.10.2"
  },
  "orig_nbformat": 4
 },
 "nbformat": 4,
 "nbformat_minor": 2
}
