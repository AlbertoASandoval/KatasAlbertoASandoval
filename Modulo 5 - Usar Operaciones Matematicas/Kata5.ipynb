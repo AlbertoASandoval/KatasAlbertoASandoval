{
 "cells": [
  {
   "cell_type": "markdown",
   "metadata": {},
   "source": [
    "-----------------------------------"
   ]
  },
  {
   "cell_type": "markdown",
   "metadata": {},
   "source": [
    "# Ejercicio 1\n",
    "## Utilizar Operadores Aritmeticos\n",
    "\n",
    "   - Operadores Aritmeticos\n",
    "   Python proporciona operadores aritméticos comunes para que puedas realizar operaciones matemáticas en tu código. Estos incluyen las cuatro operaciones principales de suma, resta, multiplicación y división.\n",
    "\n",
    "Exploremos cómo podemos crear un programa que pueda calcular la distancia entre dos planetas.  Comenzaremos usando dos distancias de planetas: Tierra (149.597.870 km) y Júpiter (778.547.200 km).\n",
    "\n",
    "\n"
   ]
  },
  {
   "cell_type": "markdown",
   "metadata": {},
   "source": [
    "#### Realizar la operacion\n",
    " - Con los valores obtenidos, es el momento de añadir el codigo para realizar, la operacion. Restaras el primer planeta del segundo para determinar la distancia en kilometros. A continuacion, puedes convertir la distancia del kilometro en millas multiplicandola por 1.609344"
   ]
  },
  {
   "cell_type": "code",
   "execution_count": 9,
   "metadata": {},
   "outputs": [
    {
     "name": "stdout",
     "output_type": "stream",
     "text": [
      "628949330\n",
      "390577533.93\n"
     ]
    }
   ],
   "source": [
    "# calcular la distancia entre planetas\n",
    "\n",
    "third_planet_earth = 149597870\n",
    "fifth_planet_jupiter = 778547200\n",
    "\n",
    "distance_in_Km = fifth_planet_jupiter - third_planet_earth \n",
    "print(distance_in_Km)\n",
    "\n",
    "distance_in_mi = distance_in_Km * 0.621\n",
    "print(distance_in_mi)"
   ]
  },
  {
   "cell_type": "markdown",
   "metadata": {},
   "source": [
    "------------------------------------------------------------------------------"
   ]
  },
  {
   "cell_type": "markdown",
   "metadata": {},
   "source": [
    "## Ejercicio 2\n",
    "  ### Convierte cadenas en numeros y usa valores absolutos\n",
    "    - Crea una aplicacion para trabajar con numeros y entrada de usuario\n",
    "    Con frecuencia, deberás convertir los valores de cadena en números para realizar correctamente diferentes operaciones o determinar el valor absoluto de un número.\n",
    "\n",
    "Para crear nuestra aplicación, queremos leer la distancia del sol para dos planetas, y luego mostrar la distancia entre los planetas. Haremos esto usando `input` para leer los valores, `int` para convertir a entero y luego `abs` para convertir el resultado en su valor absoluto.\n"
   ]
  },
  {
   "cell_type": "markdown",
   "metadata": {},
   "source": [
    "# Almacenar las entradas del usuario\n"
   ]
  },
  {
   "cell_type": "markdown",
   "metadata": {},
   "source": [
    "### Tabla de planetas y distancia\n",
    "\n",
    "| Planeta  | Distancia al sol  |\n",
    "| -------  | ----------------- |\n",
    "| Mercurio | 57900000          |\n",
    "| Venus    | 108200000         |\n",
    "| Tierra   | 149600000         |\n",
    "| Marte    | 227900000         |\n",
    "| Júpiter  | 778600000         |\n",
    "| Saturno  | 1433500000        |\n",
    "| Urano    | 2872500000        |\n",
    "| Neptuno  | 4495100000        |"
   ]
  },
  {
   "cell_type": "code",
   "execution_count": 1,
   "metadata": {},
   "outputs": [],
   "source": [
    "# Almacenar las entradas a usuarios\n",
    "\n",
    "first_planet = input(\"Enter the distance from the sun for the first planet in Km\")\n",
    "second_planet = input(\"Enter the distance from the sun for the first planet in Km\") "
   ]
  },
  {
   "cell_type": "markdown",
   "metadata": {},
   "source": [
    "#### Convertir a Numero"
   ]
  },
  {
   "cell_type": "code",
   "execution_count": 9,
   "metadata": {},
   "outputs": [
    {
     "name": "stdout",
     "output_type": "stream",
     "text": [
      "57900000\n",
      "4495100000\n"
     ]
    }
   ],
   "source": [
    "#Convertir a numeros enteros\n",
    "first_planet = int(first_planet)\n",
    "second_planet = int(second_planet)\n",
    "\n",
    "print(first_planet)\n",
    "print(second_planet)"
   ]
  },
  {
   "cell_type": "code",
   "execution_count": 3,
   "metadata": {},
   "outputs": [
    {
     "name": "stdout",
     "output_type": "stream",
     "text": [
      "4437200000\n"
     ]
    }
   ],
   "source": [
    "# realizar calculo y determinar el valor absoluto\n",
    "\n",
    "distance_in_Km = second_planet - first_planet\n",
    "print(distance_in_Km)"
   ]
  },
  {
   "cell_type": "code",
   "execution_count": 7,
   "metadata": {},
   "outputs": [
    {
     "name": "stdout",
     "output_type": "stream",
     "text": [
      "2759938400.0\n"
     ]
    }
   ],
   "source": [
    "#Convertir unidades de Km a mi (millas)\n",
    "\n",
    "distance_in_mi = distance_in_Km * 0.622 #1 \"km = 0.622 mi\"\n",
    "print(distance_in_mi)\n"
   ]
  },
  {
   "cell_type": "markdown",
   "metadata": {},
   "source": [
    "--\n",
    "\n",
    "Curso Propedútico de Python para Launch X - Innovacción Virtual.\n",
    "\n",
    "Material desarrollado con base en los contenidos de MSLearn y la metáfora de LaunchX, traducción e implementación por: Fernanda Ochoa - Learning Producer de LaunchX.\n",
    "\n",
    "Redes:\n",
    "* GitHub: [FernandaOchoa](https://github.com/FernandaOchoa)\n",
    "* Twitter: [@imonsh](https://twitter.com/imonsh)\n",
    "* Instagram: [fherz8a](https://www.instagram.com/fherz8a/)"
   ]
  },
  {
   "cell_type": "markdown",
   "metadata": {},
   "source": []
  }
 ],
 "metadata": {
  "interpreter": {
   "hash": "481f44f0cd34e6de61a4b6dcc5be0a1649e3e1204545d7e3d129eb59c7283710"
  },
  "kernelspec": {
   "display_name": "Python 3.10.2 64-bit (windows store)",
   "language": "python",
   "name": "python3"
  },
  "language_info": {
   "codemirror_mode": {
    "name": "ipython",
    "version": 3
   },
   "file_extension": ".py",
   "mimetype": "text/x-python",
   "name": "python",
   "nbconvert_exporter": "python",
   "pygments_lexer": "ipython3",
   "version": "3.10.2"
  },
  "orig_nbformat": 4
 },
 "nbformat": 4,
 "nbformat_minor": 2
}
