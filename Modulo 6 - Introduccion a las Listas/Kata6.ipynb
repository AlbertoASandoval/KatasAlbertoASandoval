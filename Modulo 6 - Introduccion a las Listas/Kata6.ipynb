{
 "cells": [
  {
   "cell_type": "markdown",
   "metadata": {},
   "source": [
    "# Ejercicio 1: Crear y usar listas de Python"
   ]
  },
  {
   "cell_type": "markdown",
   "metadata": {},
   "source": [
    "### Usar listas para almacenar nombres de Planetas\n",
    "\n",
    "   - Las listas permiten almacenar varios valores en una sola variable. Comenzaras un proyecto sobre informacion planetaria creando una lista de planetas\n",
    "\n",
    "\n",
    "      - En primer lugar, crea una variable denominada 'planets',. Agrega los ocho planetas (sin pluton) a la lista . A continuacion, muestra el numero de planetas"
   ]
  },
  {
   "cell_type": "code",
   "execution_count": 11,
   "metadata": {},
   "outputs": [],
   "source": [
    "# Creamos la lista\n",
    "planets = [\"Mercury\", \"Venus\", \"Earth\", \"Mars\",\"Jupiter\", \"Saturn\", \"Uranus\", \"Neptune\" ]\n"
   ]
  },
  {
   "cell_type": "code",
   "execution_count": 12,
   "metadata": {},
   "outputs": [
    {
     "data": {
      "text/plain": [
       "['Mercury', 'Venus', 'Earth', 'Mars', 'Jupiter', 'Saturn', 'Uranus', 'Neptune']"
      ]
     },
     "execution_count": 12,
     "metadata": {},
     "output_type": "execute_result"
    }
   ],
   "source": [
    "planets"
   ]
  },
  {
   "cell_type": "markdown",
   "metadata": {},
   "source": [
    "#### Agregar a Pluton a la lista que creaste. Luego muestra tanto el numero de planeta como el ultimo planeta en la lista"
   ]
  },
  {
   "cell_type": "code",
   "execution_count": 15,
   "metadata": {},
   "outputs": [
    {
     "name": "stdout",
     "output_type": "stream",
     "text": [
      "['Mercury', 'Venus', 'Earth', 'Mars', 'Jupiter', 'Saturn', 'Uranus', 'Neptune', 'pluto', 'pluto', 'pluton']\n",
      "pluton is the last planet\n"
     ]
    }
   ],
   "source": [
    "#Agregamos a pluto al final\n",
    "planets.append(\"pluton\")\n",
    "print(planets)\n",
    "print(planets[-1], \"is the last planet\")"
   ]
  },
  {
   "cell_type": "markdown",
   "metadata": {},
   "source": [
    "## Ejercicio 2:\n",
    "## Trabajando con datos de una lista\n",
    "  ### Usar slices para recuperar partes de una lista\n",
    "  - Es posible que debas trabajar con diferentes secciones de una lista. En nuestro ejemplo, queremos planetas mas cerca y mas lejos del sol de un planeta que el usuario ingresa por teclado\n",
    "  - Comenzar agregando el codido para crear una lista"
   ]
  },
  {
   "cell_type": "code",
   "execution_count": 19,
   "metadata": {},
   "outputs": [
    {
     "name": "stdout",
     "output_type": "stream",
     "text": [
      "['Mercury', 'Venus', 'Earth', 'Mars', 'Jupiter', 'Saturn', 'Uranus', 'Neptune', 'Pluto']\n"
     ]
    }
   ],
   "source": [
    "# Lista de planetas\n",
    "planetas= [\"Mercury\", \"Venus\", \"Earth\",\"Mars\", \"Jupiter\", \"Saturn\",\"Uranus\",\"Neptune\",\"Pluto\"]\n",
    "print(planetas)"
   ]
  },
  {
   "cell_type": "code",
   "execution_count": 20,
   "metadata": {},
   "outputs": [],
   "source": [
    "# Solicitamos el nombre.\n",
    "call_planet=input(\"please type the planet starting (with a capital letter to start)\" )\n",
    "\n"
   ]
  },
  {
   "cell_type": "code",
   "execution_count": 21,
   "metadata": {},
   "outputs": [],
   "source": [
    "# Buscar el planeta en la lista\n",
    "\n",
    "planetas_search= planets.index(call_planet)"
   ]
  },
  {
   "cell_type": "code",
   "execution_count": 24,
   "metadata": {},
   "outputs": [
    {
     "name": "stdout",
     "output_type": "stream",
     "text": [
      "The closest Planet to the Sun Earth\n",
      "['Mercury', 'Venus']\n"
     ]
    }
   ],
   "source": [
    "# Mostrar planeta mas cercanos al sol\n",
    "print(\"The closest Planet to the Sun \" + call_planet) \n",
    "print(planetas[0:planetas_search])"
   ]
  }
 ],
 "metadata": {
  "interpreter": {
   "hash": "481f44f0cd34e6de61a4b6dcc5be0a1649e3e1204545d7e3d129eb59c7283710"
  },
  "kernelspec": {
   "display_name": "Python 3.10.2 64-bit (windows store)",
   "language": "python",
   "name": "python3"
  },
  "language_info": {
   "codemirror_mode": {
    "name": "ipython",
    "version": 3
   },
   "file_extension": ".py",
   "mimetype": "text/x-python",
   "name": "python",
   "nbconvert_exporter": "python",
   "pygments_lexer": "ipython3",
   "version": "3.10.2"
  },
  "orig_nbformat": 4
 },
 "nbformat": 4,
 "nbformat_minor": 2
}
